{
 "cells": [
  {
   "cell_type": "code",
   "execution_count": 26,
   "metadata": {},
   "outputs": [
    {
     "name": "stdout",
     "output_type": "stream",
     "text": [
      "(30, 2) (30, 1)\n"
     ]
    }
   ],
   "source": [
    "%matplotlib inline\n",
    "import matplotlib.pyplot as plt\n",
    "%matplotlib inline\n",
    "import numpy as np\n",
    "#import pandas as pd\n",
    "foam = pd.read_csv('cal30.csv')\n",
    "foam.head()\n",
    "\n",
    "X = foam[[\"totalRooms\", \"medianIncome\"]]\n",
    "y = foam[\"medianHouseValue\"].values.reshape(-1, 1)\n",
    "print(X.shape, y.shape)"
   ]
  },
  {
   "cell_type": "code",
   "execution_count": 27,
   "metadata": {},
   "outputs": [
    {
     "data": {
      "text/plain": [
       "array([[8.8000e+02, 8.3252e+00],\n",
       "       [7.0990e+03, 8.3014e+00],\n",
       "       [1.4670e+03, 7.2574e+00],\n",
       "       [1.2740e+03, 5.6431e+00],\n",
       "       [1.6270e+03, 3.8462e+00],\n",
       "       [9.1900e+02, 4.0368e+00],\n",
       "       [2.5350e+03, 3.6591e+00],\n",
       "       [3.1040e+03, 3.1200e+00],\n",
       "       [2.5550e+03, 2.0804e+00],\n",
       "       [3.5490e+03, 3.6912e+00],\n",
       "       [2.2020e+03, 3.2031e+00],\n",
       "       [3.5030e+03, 3.2705e+00],\n",
       "       [2.4910e+03, 3.0750e+00],\n",
       "       [6.9600e+02, 2.6736e+00],\n",
       "       [2.6430e+03, 1.9167e+00],\n",
       "       [1.1200e+03, 2.1250e+00],\n",
       "       [1.9660e+03, 2.7750e+00],\n",
       "       [1.2280e+03, 2.1202e+00],\n",
       "       [2.2390e+03, 1.9911e+00],\n",
       "       [1.5030e+03, 2.6033e+00],\n",
       "       [7.5100e+02, 1.3578e+00],\n",
       "       [1.6390e+03, 1.7135e+00],\n",
       "       [2.4360e+03, 1.7250e+00],\n",
       "       [1.6880e+03, 2.1806e+00],\n",
       "       [2.2240e+03, 2.6000e+00],\n",
       "       [5.3500e+02, 2.4038e+00],\n",
       "       [1.1300e+03, 2.4597e+00],\n",
       "       [1.8980e+03, 1.8080e+00],\n",
       "       [2.0820e+03, 1.6424e+00],\n",
       "       [7.2900e+02, 1.6875e+00]])"
      ]
     },
     "execution_count": 27,
     "metadata": {},
     "output_type": "execute_result"
    }
   ],
   "source": [
    "# Generate 4 clusters of random data.\n",
    "from sklearn.datasets.samples_generator import make_blobs\n",
    "\n",
    "#data, _ = make_blobs(n_samples=300, centers=4,\n",
    "#                     cluster_std=0.60, random_state=0)\n",
    "X=X.values\n",
    "X\n"
   ]
  },
  {
   "cell_type": "code",
   "execution_count": 28,
   "metadata": {},
   "outputs": [
    {
     "data": {
      "text/plain": [
       "<matplotlib.collections.PathCollection at 0x1a1bc6ea58>"
      ]
     },
     "execution_count": 28,
     "metadata": {},
     "output_type": "execute_result"
    },
    {
     "data": {
      "image/png": "[encoded data removed]",
      "text/plain": [
       "<Figure size 432x288 with 1 Axes>"
      ]
     },
     "metadata": {},
     "output_type": "display_data"
    }
   ],
   "source": [
    "# Plot the data\n",
    "plt.scatter(X[:, 0], X[:, 1])"
   ]
  },
  {
   "cell_type": "code",
   "execution_count": 29,
   "metadata": {},
   "outputs": [],
   "source": [
    "# Use n_clusters=4 as the k value\n",
    "# We can see from the plot above that there are 4 clusters\n",
    "from sklearn.cluster import KMeans\n",
    "kmeans = KMeans(n_clusters=4)"
   ]
  },
  {
   "cell_type": "code",
   "execution_count": 30,
   "metadata": {},
   "outputs": [
    {
     "data": {
      "text/plain": [
       "KMeans(algorithm='auto', copy_x=True, init='k-means++', max_iter=300,\n",
       "    n_clusters=4, n_init=10, n_jobs=None, precompute_distances='auto',\n",
       "    random_state=None, tol=0.0001, verbose=0)"
      ]
     },
     "execution_count": 30,
     "metadata": {},
     "output_type": "execute_result"
    }
   ],
   "source": [
    "# Fit the model to the data\n",
    "kmeans.fit(X)"
   ]
  },
  {
   "cell_type": "code",
   "execution_count": 31,
   "metadata": {},
   "outputs": [],
   "source": [
    "# Predict the clusters\n",
    "predicted_clusters = kmeans.predict(X)"
   ]
  },
  {
   "cell_type": "code",
   "execution_count": 32,
   "metadata": {},
   "outputs": [
    {
     "data": {
      "text/plain": [
       "<matplotlib.collections.PathCollection at 0x1a1bd88a58>"
      ]
     },
     "execution_count": 32,
     "metadata": {},
     "output_type": "execute_result"
    },
    {
     "data": {
      "image/png": "[encoded data removed]",
      "text/plain": [
       "<Figure size 432x288 with 1 Axes>"
      ]
     },
     "metadata": {},
     "output_type": "display_data"
    }
   ],
   "source": [
    "# Plot the predicted clusters to see if the model predicted the correct clusters\n",
    "# This is visual validation that the model was trained correctly.\n",
    "plt.scatter(X[:, 0], X[:, 1], c=predicted_clusters, s=50, cmap='viridis')"
   ]
  },
  {
   "cell_type": "code",
   "execution_count": null,
   "metadata": {},
   "outputs": [],
   "source": []
  }
 ],
 "metadata": {
  "kernelspec": {
   "display_name": "Python 3",
   "language": "python",
   "name": "python3"
  },
  "language_info": {
   "codemirror_mode": {
    "name": "ipython",
    "version": 3
   },
   "file_extension": ".py",
   "mimetype": "text/x-python",
   "name": "python",
   "nbconvert_exporter": "python",
   "pygments_lexer": "ipython3",
   "version": "3.6.5"
  },
  "varInspector": {
   "cols": {
    "lenName": 16,
    "lenType": 16,
    "lenVar": 40
   },
   "kernels_config": {
    "python": {
     "delete_cmd_postfix": "",
     "delete_cmd_prefix": "del ",
     "library": "var_list.py",
     "varRefreshCmd": "print(var_dic_list())"
    },
    "r": {
     "delete_cmd_postfix": ") ",
     "delete_cmd_prefix": "rm(",
     "library": "var_list.r",
     "varRefreshCmd": "cat(var_dic_list()) "
    }
   },
   "types_to_exclude": [
    "module",
    "function",
    "builtin_function_or_method",
    "instance",
    "_Feature"
   ],
   "window_display": false
  }
 },
 "nbformat": 4,
 "nbformat_minor": 2
}
